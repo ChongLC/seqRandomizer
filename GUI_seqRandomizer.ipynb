{
  "cells": [
    {
      "cell_type": "markdown",
      "metadata": {
        "id": "sdD9bWF49QCa"
      },
      "source": [
        "<a target=\"_blank\" href=\"https://colab.research.google.com/github/ChongLC/MinimalSetofViralPeptidome-UNIQmin/blob/master/randomizer/GUI_v_randomizer.ipynb\">\n",
        "  <img src=\"https://colab.research.google.com/assets/colab-badge.svg\" alt=\"Open In Colab\"/>\n",
        "</a>"
      ]
    },
    {
      "attachments": {},
      "cell_type": "markdown",
      "metadata": {
        "id": "eqSymMDYRLgH"
      },
      "source": [
        "# **seqRandomizer: A tool to generate a random viral protein sequence dataset**\n",
        "-----------------\n",
        "- <b><font color='red'>12 Feb 2022 : Please report any errors you see.</font></b>\n",
        "-----------------\n",
        "A random protein sequence dataset can be useful for various sequence analysis, in order to evaluate and correct the analysis for the background noise. Herein, we offer a tool that can generate a dataset of random viral protein sequences.\n",
        "\n",
        "<strong>For additional information on the tool, please check the [seqRandomizer GitHub](https://github.com/ChongLC/seqRandomizer). </strong>"
      ]
    },
    {
      "cell_type": "markdown",
      "metadata": {
        "id": "V5urlf9nTALu"
      },
      "source": [
        "## **Instructions**\n",
        "\n",
        "**Quick start**\n",
        "\n",
        "1.   Define the desired sequence number and sequence length.\n",
        "2.   Press \"Runtime\" -> \"Run all\".\n",
        "\n",
        "<b><font color='red'>!!! Note: </font></b> The output file will be directly downloaded to your local computer. \n"
      ]
    },
    {
      "cell_type": "markdown",
      "metadata": {
        "id": "mKxKbHlcTZvu"
      },
      "source": [
        "## **Application**\n"
      ]
    },
    {
      "cell_type": "code",
      "execution_count": null,
      "metadata": {
        "colab": {
          "base_uri": "https://localhost:8080/",
          "height": 34
        },
        "id": "YcgoRPY-LfCo",
        "outputId": "97b01f84-2d68-4ac4-f3ce-8dbdb313be46"
      },
      "outputs": [
        {
          "data": {
            "application/javascript": "\n    async function download(id, filename, size) {\n      if (!google.colab.kernel.accessAllowed) {\n        return;\n      }\n      const div = document.createElement('div');\n      const label = document.createElement('label');\n      label.textContent = `Downloading \"${filename}\": `;\n      div.appendChild(label);\n      const progress = document.createElement('progress');\n      progress.max = size;\n      div.appendChild(progress);\n      document.body.appendChild(div);\n\n      const buffers = [];\n      let downloaded = 0;\n\n      const channel = await google.colab.kernel.comms.open(id);\n      // Send a message to notify the kernel that we're ready.\n      channel.send({})\n\n      for await (const message of channel.messages) {\n        // Send a message to notify the kernel that we're ready.\n        channel.send({})\n        if (message.buffers) {\n          for (const buffer of message.buffers) {\n            buffers.push(buffer);\n            downloaded += buffer.byteLength;\n            progress.value = downloaded;\n          }\n        }\n      }\n      const blob = new Blob(buffers, {type: 'application/binary'});\n      const a = document.createElement('a');\n      a.href = window.URL.createObjectURL(blob);\n      a.download = filename;\n      div.appendChild(a);\n      a.click();\n      div.remove();\n    }\n  ",
            "text/plain": [
              "<IPython.core.display.Javascript object>"
            ]
          },
          "metadata": {},
          "output_type": "display_data"
        },
        {
          "data": {
            "application/javascript": "download(\"download_7fe39b87-9223-460d-9512-994d55853b82\", \"random_seq.fasta\", 1014893)",
            "text/plain": [
              "<IPython.core.display.Javascript object>"
            ]
          },
          "metadata": {},
          "output_type": "display_data"
        },
        {
          "name": "stdout",
          "output_type": "stream",
          "text": [
            "Your random dataset is successfully generated!\n"
          ]
        }
      ],
      "source": [
        "#@title Parameters\n",
        "\n",
        "sequence_number = 1000 #@param {type:\"integer\"}\n",
        "sequence_length = 8 #@param {type:\"integer\"}\n",
        "outputfile = '8MERS.fasta' #@param {type:\"string\"} \n",
        "\n",
        "import string\n",
        "import random\n",
        "from google.colab import files\n",
        "\n",
        "counter = 0\n",
        "aa_fullList = ['A', 'R', 'N', 'D', 'Q', 'E', 'H', 'I', 'L', 'K', 'M', 'F', 'P', 'S', 'T', 'W', 'Y', 'V']\n",
        "random_list = []\n",
        "\n",
        "with open(outputfile, 'w') as f:\n",
        "  for i in range(sequence_number):\n",
        "    counter += 1\n",
        "    randomSeqList = ''.join(random.choices(aa_fullList, weights = [6.42, 5.51, 5.08, 5.01, 1.97, 3.96, 6.02, 6.76, 2.04, 6.28, 8.61, 5.93, 2.55, 3.77, 4.99, 6.85, 6.68, 1.76, 3.28, 6.34, 0.19], k=sequence_length))\n",
        "    random_list.append(randomSeqList)\n",
        "    i+=1\n",
        "    f.write(f\">Sequence {counter}\" + '\\n' + randomSeqList + '\\n')\n",
        "\n",
        "files.download(outputfile)\n",
        "\n",
        "print('Your random dataset is successfully generated!')"
      ]
    },
    {
      "attachments": {},
      "cell_type": "markdown",
      "metadata": {
        "id": "tp75yQOyQVmA"
      },
      "source": [
        "## **Bugs**\n",
        "- If you encounter any bugs, please report the issue to https://github.com/ChongLC/seqRandomizer/issues"
      ]
    }
  ],
  "metadata": {
    "colab": {
      "collapsed_sections": [],
      "provenance": []
    },
    "kernelspec": {
      "display_name": "Python 3",
      "name": "python3"
    },
    "language_info": {
      "name": "python"
    }
  },
  "nbformat": 4,
  "nbformat_minor": 0
}
